{
 "cells": [
  {
   "cell_type": "code",
   "execution_count": 1,
   "metadata": {},
   "outputs": [],
   "source": [
    "import numpy as np\n",
    "from utils import plotting\n",
    "from measurements import cwODMR, pulsedODMR\n",
    "import matplotlib.pyplot as plt\n",
    "from vectors import vec\n",
    "from qutip import Qobj\n",
    "#constants\n",
    "MW_freq_range = np.linspace(2800, 2940, 10000)  # Adjust range and points as needed\n",
    "B0 = 4 # Magnetic field strength in G\n",
    "thetaB, phiB = np.pi / 2, 0  # Direction of the magnetic field in spherical coordinates\n",
    "E0 = 0  # Electric field strength (assuming no electric field for simplicity)\n",
    "thetaE, phiE = 0, 0  # Direction of the electric field (not relevant here)\n",
    "thetaMW, phiMW = -np.pi/4 , 0  # Direction of MW field\n",
    "Linewidth = 6  # Linewidth of the transitions (in MHz)\n"
   ]
  },
  {
   "cell_type": "code",
   "execution_count": 2,
   "metadata": {},
   "outputs": [
    {
     "name": "stdout",
     "output_type": "stream",
     "text": [
      "|████████████████████████████████████████| 4 in 0.1s (34.02/s) \n",
      "|████████████████████████████████████████| 4 in 4.3s (0.92/s) \n"
     ]
    }
   ],
   "source": [
    "\n",
    "# Data for different measurements\n",
    "\n",
    "## ODMR data\n",
    "cw_odmrDATA = cwODMR.nvODMR(MW_freq_range, thetaMW, phiMW, B0, thetaB, phiB,E0, thetaE, phiE, Linewidth)\n",
    "pulsed_odmrDATA = pulsedODMR.pulsednvODMR(MW_freq_range, thetaMW, phiMW, B0, thetaB, phiB,E0, thetaE, phiE, Linewidth)\n",
    "# nvODMR_lock_inDATA = cwODMR.nvODMR_lock_in(MW_freq_range, thetaMW, phiMW, B0, thetaB, phiB,E0, thetaE, phiE, Linewidth)\n",
    "# pulsed_odmr_lock_inDATA = pulsedODMR.pulsednvODMR_lock_in(MW_freq_range, thetaMW, phiMW, B0, thetaB, phiB,E0, thetaE, phiE, Linewidth)\n",
    "\n",
    "\n",
    "# ## Noisy data \n",
    "# noisy_cw_odmrDATA = cwODMR.noisy_nvODMR(MW_freq_range, thetaMW, phiMW, B0, thetaB, phiB,E0, thetaE, phiE, Linewidth)\n",
    "# noisy_pulsed_odmrDATA = pulsedODMR.noisy_pulsednvODMR(MW_freq_range, thetaMW, phiMW, B0, thetaB, phiB,E0, thetaE, phiE, Linewidth)\n",
    "# noisy_nvODMR_lock_inDATA = cwODMR.noisy_nvODMR_lock_in(MW_freq_range, thetaMW, phiMW, B0, thetaB, phiB,E0, thetaE, phiE, Linewidth)\n",
    "# noisy_pulsed_odmr_lock_inDATA = pulsedODMR.noisy_pulsednvODMR_lock_in(MW_freq_range, thetaMW, phiMW, B0, thetaB, phiB,E0, thetaE, phiE, Linewidth)"
   ]
  },
  {
   "cell_type": "code",
   "execution_count": 2,
   "metadata": {},
   "outputs": [],
   "source": [
    "Bvec = vec.getAllframesCartesian(B0, thetaB, phiB)[0]\n",
    "Evec = vec.getAllframesCartesian(E0, thetaE, phiE)[0]\n",
    "\n",
    "\n",
    "\n",
    "MWvec_x = [1, 0, 0]\n",
    "\n",
    "# Linear polarization along y-axis\n",
    "MWvec_y = [0, 1, 0]\n",
    "\n",
    "# Right circular polarization (in xy-plane)\n",
    "MWvec_rcp = [1/np.sqrt(2), 1j/np.sqrt(2), 0]\n",
    "\n",
    "# Left circular polarization (in xy-plane)\n",
    "MWvec_lcp = [1/np.sqrt(2), -1j/np.sqrt(2), 0]\n",
    "\n",
    "MWvec = [MWvec_x, MWvec_y, MWvec_rcp, MWvec_lcp]\n"
   ]
  },
  {
   "cell_type": "code",
   "execution_count": 3,
   "metadata": {},
   "outputs": [
    {
     "ename": "TypeError",
     "evalue": "Incompatible quantum object dimensions",
     "output_type": "error",
     "traceback": [
      "\u001b[0;31m---------------------------------------------------------------------------\u001b[0m",
      "\u001b[0;31mTypeError\u001b[0m                                 Traceback (most recent call last)",
      "Cell \u001b[0;32mIn[3], line 2\u001b[0m\n\u001b[1;32m      1\u001b[0m data \u001b[38;5;241m=\u001b[39m []\n\u001b[0;32m----> 2\u001b[0m data\u001b[38;5;241m.\u001b[39mappend(\u001b[43mpulsedODMR\u001b[49m\u001b[38;5;241;43m.\u001b[39;49m\u001b[43mpulsedODMRsingleNV\u001b[49m\u001b[43m(\u001b[49m\u001b[43mMW_freq_range\u001b[49m\u001b[43m,\u001b[49m\u001b[43m \u001b[49m\u001b[43mMWvec\u001b[49m\u001b[43m[\u001b[49m\u001b[38;5;241;43m3\u001b[39;49m\u001b[43m]\u001b[49m\u001b[43m,\u001b[49m\u001b[43mBvec\u001b[49m\u001b[43m,\u001b[49m\u001b[43mEvec\u001b[49m\u001b[43m,\u001b[49m\u001b[43m \u001b[49m\u001b[43mLinewidth\u001b[49m\u001b[43m)\u001b[49m)\n\u001b[1;32m      3\u001b[0m \u001b[38;5;66;03m# data.append(cwODMR.ODMRsingleNV(MW_freq_range, MWvec[3],Bvec,Evec, Linewidth))\u001b[39;00m\n\u001b[1;32m      4\u001b[0m \n\u001b[1;32m      5\u001b[0m \n\u001b[1;32m      6\u001b[0m \u001b[38;5;66;03m# simulation = [cw_odmrDATA,pulsed_odmrDATA]#, nvODMR_lock_inDATA, pulsed_odmr_lock_inDATA]\u001b[39;00m\n\u001b[1;32m      7\u001b[0m plotting\u001b[38;5;241m.\u001b[39mplot_ODMR(MW_freq_range, data)\n",
      "File \u001b[0;32m~/GITS/bep/BEP/source/measurements.py:333\u001b[0m, in \u001b[0;36mpulsedODMR.pulsedODMRsingleNV\u001b[0;34m(MWfreq, MWvec, Bvec, Evec, Linewidth)\u001b[0m\n\u001b[1;32m    330\u001b[0m psi_j \u001b[38;5;241m=\u001b[39m eigenstates[j]  \n\u001b[1;32m    332\u001b[0m \u001b[38;5;28;01mif\u001b[39;00m np\u001b[38;5;241m.\u001b[39mabs(freq_j \u001b[38;5;241m-\u001b[39m freq_i) \u001b[38;5;129;01min\u001b[39;00m np\u001b[38;5;241m.\u001b[39mabs(freq_list) \u001b[38;5;129;01mor\u001b[39;00m np\u001b[38;5;241m.\u001b[39mabs(freq_j \u001b[38;5;241m-\u001b[39m freq_i) \u001b[38;5;129;01min\u001b[39;00m np\u001b[38;5;241m.\u001b[39mabs(freq_list2) \u001b[38;5;129;01mor\u001b[39;00m np\u001b[38;5;241m.\u001b[39mabs(freq_j \u001b[38;5;241m-\u001b[39m freq_i) \u001b[38;5;129;01min\u001b[39;00m np\u001b[38;5;241m.\u001b[39mabs(freq_list3):\n\u001b[0;32m--> 333\u001b[0m     resulti \u001b[38;5;241m=\u001b[39m \u001b[43mmesolve\u001b[49m\u001b[43m(\u001b[49m\u001b[43mH_pulse\u001b[49m\u001b[43m,\u001b[49m\u001b[43m \u001b[49m\u001b[43mpsi_i\u001b[49m\u001b[43m,\u001b[49m\u001b[43m \u001b[49m\u001b[43mnp\u001b[49m\u001b[38;5;241;43m.\u001b[39;49m\u001b[43mlinspace\u001b[49m\u001b[43m(\u001b[49m\u001b[38;5;241;43m0\u001b[39;49m\u001b[43m,\u001b[49m\u001b[43m \u001b[49m\u001b[43mpi_pulse_duration\u001b[49m\u001b[43m,\u001b[49m\u001b[43m \u001b[49m\u001b[38;5;241;43m100\u001b[39;49m\u001b[43m)\u001b[49m\u001b[43m,\u001b[49m\u001b[43m \u001b[49m\u001b[43mc_ops\u001b[49m\u001b[43m \u001b[49m\u001b[38;5;241;43m=\u001b[39;49m\u001b[43m \u001b[49m\u001b[43m[\u001b[49m\u001b[43mnp\u001b[49m\u001b[38;5;241;43m.\u001b[39;49m\u001b[43msqrt\u001b[49m\u001b[43m(\u001b[49m\u001b[43mnp\u001b[49m\u001b[38;5;241;43m.\u001b[39;49m\u001b[43mpi\u001b[49m\u001b[38;5;241;43m*\u001b[39;49m\u001b[43mLinewidth\u001b[49m\u001b[43m)\u001b[49m\u001b[38;5;241;43m*\u001b[39;49m\u001b[43msigmax\u001b[49m\u001b[43m(\u001b[49m\u001b[43m)\u001b[49m\u001b[43m]\u001b[49m\u001b[43m,\u001b[49m\u001b[43m \u001b[49m\u001b[43me_ops\u001b[49m\u001b[43m \u001b[49m\u001b[38;5;241;43m=\u001b[39;49m\u001b[43m \u001b[49m\u001b[43m[\u001b[49m\u001b[43m]\u001b[49m\u001b[43m)\u001b[49m\n\u001b[1;32m    336\u001b[0m     \u001b[38;5;66;03m# print(freq_i-freq_j,\"applied\")\u001b[39;00m\n\u001b[1;32m    337\u001b[0m     psi_i \u001b[38;5;241m=\u001b[39m resulti\u001b[38;5;241m.\u001b[39mstates[\u001b[38;5;241m-\u001b[39m\u001b[38;5;241m1\u001b[39m]\n",
      "File \u001b[0;32m~/.local/lib/python3.10/site-packages/qutip/mesolve.py:231\u001b[0m, in \u001b[0;36mmesolve\u001b[0;34m(H, rho0, tlist, c_ops, e_ops, args, options, progress_bar, _safe_mode)\u001b[0m\n\u001b[1;32m    229\u001b[0m     ss \u001b[38;5;241m=\u001b[39m H\n\u001b[1;32m    230\u001b[0m \u001b[38;5;28;01melif\u001b[39;00m \u001b[38;5;28misinstance\u001b[39m(H, (\u001b[38;5;28mlist\u001b[39m, Qobj, QobjEvo)):\n\u001b[0;32m--> 231\u001b[0m     ss \u001b[38;5;241m=\u001b[39m \u001b[43m_mesolve_QobjEvo\u001b[49m\u001b[43m(\u001b[49m\u001b[43mH\u001b[49m\u001b[43m,\u001b[49m\u001b[43m \u001b[49m\u001b[43mc_ops\u001b[49m\u001b[43m,\u001b[49m\u001b[43m \u001b[49m\u001b[43mtlist\u001b[49m\u001b[43m,\u001b[49m\u001b[43m \u001b[49m\u001b[43margs\u001b[49m\u001b[43m,\u001b[49m\u001b[43m \u001b[49m\u001b[43moptions\u001b[49m\u001b[43m)\u001b[49m\n\u001b[1;32m    232\u001b[0m \u001b[38;5;28;01melif\u001b[39;00m \u001b[38;5;28mcallable\u001b[39m(H):\n\u001b[1;32m    233\u001b[0m     ss \u001b[38;5;241m=\u001b[39m _mesolve_func_td(H, c_ops, rho0, tlist, args, options)\n",
      "File \u001b[0;32m~/.local/lib/python3.10/site-packages/qutip/mesolve.py:281\u001b[0m, in \u001b[0;36m_mesolve_QobjEvo\u001b[0;34m(H, c_ops, tlist, args, opt)\u001b[0m\n\u001b[1;32m    279\u001b[0m     \u001b[38;5;28;01mif\u001b[39;00m \u001b[38;5;129;01mnot\u001b[39;00m issuper(op_td\u001b[38;5;241m.\u001b[39mcte):\n\u001b[1;32m    280\u001b[0m         op_td \u001b[38;5;241m=\u001b[39m lindblad_dissipator(op_td)\n\u001b[0;32m--> 281\u001b[0m     L_td \u001b[38;5;241m+\u001b[39m\u001b[38;5;241m=\u001b[39m op_td\n\u001b[1;32m    283\u001b[0m \u001b[38;5;28;01mif\u001b[39;00m opt\u001b[38;5;241m.\u001b[39mrhs_with_state:\n\u001b[1;32m    284\u001b[0m     L_td\u001b[38;5;241m.\u001b[39m_check_old_with_state()\n",
      "File \u001b[0;32m~/.local/lib/python3.10/site-packages/qutip/qobjevo.py:820\u001b[0m, in \u001b[0;36mQobjEvo.__iadd__\u001b[0;34m(self, other)\u001b[0m\n\u001b[1;32m    818\u001b[0m \u001b[38;5;28;01mdef\u001b[39;00m \u001b[38;5;21m__iadd__\u001b[39m(\u001b[38;5;28mself\u001b[39m, other):\n\u001b[1;32m    819\u001b[0m     \u001b[38;5;28;01mif\u001b[39;00m \u001b[38;5;28misinstance\u001b[39m(other, QobjEvo):\n\u001b[0;32m--> 820\u001b[0m         \u001b[38;5;28mself\u001b[39m\u001b[38;5;241m.\u001b[39mcte \u001b[38;5;241m+\u001b[39m\u001b[38;5;241m=\u001b[39m other\u001b[38;5;241m.\u001b[39mcte\n\u001b[1;32m    821\u001b[0m         l \u001b[38;5;241m=\u001b[39m \u001b[38;5;28mlen\u001b[39m(\u001b[38;5;28mself\u001b[39m\u001b[38;5;241m.\u001b[39mops)\n\u001b[1;32m    822\u001b[0m         \u001b[38;5;28;01mfor\u001b[39;00m op \u001b[38;5;129;01min\u001b[39;00m other\u001b[38;5;241m.\u001b[39mops:\n",
      "File \u001b[0;32m~/.local/lib/python3.10/site-packages/qutip/qobj.py:433\u001b[0m, in \u001b[0;36mQobj.__add__\u001b[0;34m(self, other)\u001b[0m\n\u001b[1;32m    430\u001b[0m     \u001b[38;5;28;01mreturn\u001b[39;00m out\n\u001b[1;32m    432\u001b[0m \u001b[38;5;28;01melif\u001b[39;00m \u001b[38;5;28mself\u001b[39m\u001b[38;5;241m.\u001b[39mdims \u001b[38;5;241m!=\u001b[39m other\u001b[38;5;241m.\u001b[39mdims:\n\u001b[0;32m--> 433\u001b[0m     \u001b[38;5;28;01mraise\u001b[39;00m \u001b[38;5;167;01mTypeError\u001b[39;00m(\u001b[38;5;124m'\u001b[39m\u001b[38;5;124mIncompatible quantum object dimensions\u001b[39m\u001b[38;5;124m'\u001b[39m)\n\u001b[1;32m    435\u001b[0m \u001b[38;5;28;01melif\u001b[39;00m \u001b[38;5;28mself\u001b[39m\u001b[38;5;241m.\u001b[39mshape \u001b[38;5;241m!=\u001b[39m other\u001b[38;5;241m.\u001b[39mshape:\n\u001b[1;32m    436\u001b[0m     \u001b[38;5;28;01mraise\u001b[39;00m \u001b[38;5;167;01mTypeError\u001b[39;00m(\u001b[38;5;124m'\u001b[39m\u001b[38;5;124mMatrix shapes do not match\u001b[39m\u001b[38;5;124m'\u001b[39m)\n",
      "\u001b[0;31mTypeError\u001b[0m: Incompatible quantum object dimensions"
     ]
    }
   ],
   "source": [
    "data = []\n",
    "data.append(pulsedODMR.pulsedODMRsingleNV(MW_freq_range, MWvec[3],Bvec,Evec, Linewidth))\n",
    "# data.append(cwODMR.ODMRsingleNV(MW_freq_range, MWvec[3],Bvec,Evec, Linewidth))\n",
    "\n",
    "\n",
    "# simulation = [cw_odmrDATA,pulsed_odmrDATA]#, nvODMR_lock_inDATA, pulsed_odmr_lock_inDATA]\n",
    "plotting.plot_ODMR(MW_freq_range, data)\n",
    "\n",
    "\n"
   ]
  },
  {
   "cell_type": "code",
   "execution_count": null,
   "metadata": {},
   "outputs": [],
   "source": []
  }
 ],
 "metadata": {
  "kernelspec": {
   "display_name": "Python 3",
   "language": "python",
   "name": "python3"
  },
  "language_info": {
   "codemirror_mode": {
    "name": "ipython",
    "version": 3
   },
   "file_extension": ".py",
   "mimetype": "text/x-python",
   "name": "python",
   "nbconvert_exporter": "python",
   "pygments_lexer": "ipython3",
   "version": "3.10.12"
  }
 },
 "nbformat": 4,
 "nbformat_minor": 2
}
